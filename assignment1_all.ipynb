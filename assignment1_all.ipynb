{
 "cells": [
  {
   "cell_type": "markdown",
   "metadata": {},
   "source": [
    "# The parts of the assignment has been shown below along with results, plots, and descriptions in the below cells and their outputs"
   ]
  },
  {
   "cell_type": "code",
   "execution_count": 131,
   "metadata": {},
   "outputs": [
    {
     "name": "stdout",
     "output_type": "stream",
     "text": [
      "brown corpus imported\n"
     ]
    }
   ],
   "source": [
    "import nltk,re\n",
    "import numpy as np\n",
    "from nltk.corpus import brown\n",
    "from nltk.tokenize import RegexpTokenizer\n",
    "tokenizer = RegexpTokenizer(r'\\w+')\n",
    "s=brown.sents()\n",
    "#len(s)\n",
    "print(\"brown corpus imported\")"
   ]
  },
  {
   "cell_type": "markdown",
   "metadata": {},
   "source": [
    "# preprocessing the text (casefolding and removing numerals & special characters)"
   ]
  },
  {
   "cell_type": "code",
   "execution_count": 132,
   "metadata": {},
   "outputs": [
    {
     "name": "stdout",
     "output_type": "stream",
     "text": [
      "pre-processing started\n",
      "pre-processing finished\n"
     ]
    }
   ],
   "source": [
    "print(\"pre-processing started\")\n",
    "S=[[re.sub(r'[^a-z ]+','',j.lower()) for j in i] for i in s] #case-folding and removing numerals\n",
    "\n",
    "sentences=[\" \".join(i) for i in S]\n",
    "print(\"pre-processing finished\")\n",
    "#sentences[0:10]"
   ]
  },
  {
   "cell_type": "markdown",
   "metadata": {},
   "source": [
    "# unigram model"
   ]
  },
  {
   "cell_type": "code",
   "execution_count": 133,
   "metadata": {},
   "outputs": [
    {
     "name": "stdout",
     "output_type": "stream",
     "text": [
      "creating unigram model\n",
      "finished : creating unigram model length of unigram model 46276\n"
     ]
    }
   ],
   "source": [
    "from nltk import bigrams, ngrams, trigrams \n",
    "from collections import Counter\n",
    "#unigrams\n",
    "print(\"creating unigram model\")\n",
    "def unigram_model(sent):\n",
    "    unigrams=[]\n",
    "    for elem in sent:\n",
    "        unigrams.append(None)\n",
    "        unigrams.extend(elem.split())\n",
    "        unigrams.append(None)\n",
    "    unigram_counts=dict(Counter(unigrams))\n",
    "    unigram_total=len(unigrams)\n",
    "    for word in unigram_counts:\n",
    "        unigram_counts[word]/=(unigram_total+0.0)\n",
    "    return unigram_counts\n",
    "unigram_counts=unigram_model(sentences)\n",
    "print(\"finished : creating unigram model\",\"length of unigram model\",len(unigram_counts))"
   ]
  },
  {
   "cell_type": "markdown",
   "metadata": {},
   "source": [
    "# bigram model"
   ]
  },
  {
   "cell_type": "code",
   "execution_count": 134,
   "metadata": {},
   "outputs": [
    {
     "name": "stdout",
     "output_type": "stream",
     "text": [
      "creating bigram model\n",
      "finished : creating bigram model\n"
     ]
    }
   ],
   "source": [
    "#bigrams\n",
    "print(\"creating bigram model\")\n",
    "def bigram_model(sentences):\n",
    "    model={}\n",
    "    bigrams=[]\n",
    "    for sent in sentences:\n",
    "         for w1,w2 in ngrams(sent.split(),2, pad_left=True,pad_right=True):\n",
    "            bigrams.append((w1,w2))\n",
    "            if w1 not in model:\n",
    "                model[w1]={}\n",
    "            if w2 not in model[w1]:\n",
    "                model[w1][w2]=0\n",
    "            model[w1][w2]+=1\n",
    "    for w1 in model:\n",
    "        tot_count=float(sum(model[w1].values()))\n",
    "        for w2 in model[w1]:\n",
    "            model[w1][w2]/=tot_count\n",
    "    \n",
    "    return model,dict(Counter(bigrams))\n",
    "\n",
    "bigram_counts,bigrams= bigram_model(sentences)\n",
    "print(\"finished : creating bigram model\")"
   ]
  },
  {
   "cell_type": "markdown",
   "metadata": {},
   "source": [
    "# trigram model"
   ]
  },
  {
   "cell_type": "code",
   "execution_count": 135,
   "metadata": {},
   "outputs": [
    {
     "name": "stdout",
     "output_type": "stream",
     "text": [
      "creating trigram model\n",
      "finished : creating trigram model\n"
     ]
    }
   ],
   "source": [
    "#trigram\n",
    "\n",
    "print(\"creating trigram model\")\n",
    "\n",
    "def trigram_model(sentences):\n",
    "    model={}\n",
    "    trigrams=[]\n",
    "    for sent in sentences:\n",
    "         for w1,w2,w3 in ngrams(sent.split(),3, pad_left=True,pad_right=True):\n",
    "            trigrams.append((w1,w2,w3))\n",
    "            if (w1,w2) not in model:\n",
    "                model[(w1,w2)]={}\n",
    "            if w3 not in model[(w1,w2)]:\n",
    "                model[(w1,w2)][w3]=0\n",
    "            model[(w1,w2)][w3]+=1\n",
    "    for (w1,w2) in model:\n",
    "        tot_count=float(sum(model[(w1,w2)].values()))\n",
    "        for w3 in model[(w1,w2)]:\n",
    "            model[(w1,w2)][w3]/=tot_count\n",
    "     \n",
    "    return model,dict(Counter(trigrams))\n",
    "\n",
    "def trigram_true_model(sentences):\n",
    "    model={}\n",
    "    for sent in sentences:\n",
    "        for w1,w2,w3 in ngrams(sent.split(),3,pad_left=True,pad_right=True):\n",
    "            if w1 not in model:\n",
    "                model[w1]={}\n",
    "            if w2 not in model[w1]:\n",
    "                model[w1][w2]={}\n",
    "            if w3 not in model[w1][w2]:\n",
    "                model[w1][w2][w3]=0\n",
    "            model[w1][w2][w3]+=1\n",
    "    return model\n",
    "\n",
    "trigram_counts,trigrams= trigram_model(sentences)\n",
    "#trigram_true_counts= trigram_true_model(sentences)\n",
    "#print(len(trigram_counts),len(trigram_true_counts))\n",
    "print(\"finished : creating trigram model\")"
   ]
  },
  {
   "cell_type": "markdown",
   "metadata": {},
   "source": [
    "# printing top 10 ngrams"
   ]
  },
  {
   "cell_type": "code",
   "execution_count": 136,
   "metadata": {},
   "outputs": [
    {
     "name": "stdout",
     "output_type": "stream",
     "text": [
      "printing top 10 unigrams\n",
      "[None, 'the', 'of', 'and', 'to', 'a', 'in', 'that', 'is', 'was']\n",
      "printing top 10 bigrams\n",
      "[('of', 'the'), (None, 'the'), ('in', 'the'), ('to', 'the'), (None, 'he'), ('on', 'the'), ('and', 'the'), (None, 'it'), ('for', 'the'), (None, 'i')]\n",
      "printing top 10 trigrams\n",
      "[(None, None, 'the'), (None, None, 'he'), (None, None, 'it'), (None, None, 'i'), (None, None, 'in'), (None, None, 'but'), (None, None, 'a'), (None, None, 'and'), (None, None, 'this'), (None, None, None)]\n"
     ]
    }
   ],
   "source": [
    "print(\"printing top 10 unigrams in no particular order\")\n",
    "print([i[0] for i in Counter(unigram_counts).most_common(10)])\n",
    "print(\"printing top 10 bigrams in no particular order\")\n",
    "print([i[0] for i in Counter(bigrams).most_common(10)])\n",
    "print(\"printing top 10 trigrams in no particular order\")\n",
    "print([i[0] for i in Counter(trigrams).most_common(10)])"
   ]
  },
  {
   "cell_type": "markdown",
   "metadata": {},
   "source": [
    "# Verify Zipf’s Law on the aforementioned 3 language models\n",
    "## Verification of zipf's law in all the 3 models have been proven below by plotting frequency vs. rank plots for each of the models. "
   ]
  },
  {
   "cell_type": "code",
   "execution_count": 137,
   "metadata": {},
   "outputs": [
    {
     "name": "stdout",
     "output_type": "stream",
     "text": [
      "series counts to plot for zipf's law have been calculated\n"
     ]
    }
   ],
   "source": [
    "from matplotlib import pyplot as plt\n",
    "#sorted(d.items(), key=lambda x: x[1])\n",
    "#x={'a':5,'b':2,'c':9,'d':4,'e':7}\n",
    "#sorted(x.items(), key=lambda x: x[1],reverse=True)\n",
    "sorted_unigram=sorted(unigram_counts.items(), key=lambda x: x[1],reverse=True)\n",
    "sorted_bigram=sorted(Counter(bigrams).items(), key=lambda x: x[1],reverse=True)\n",
    "sorted_trigram=sorted(Counter(trigrams).items(), key=lambda x: x[1],reverse=True)\n",
    "print('series counts to plot for zipf\\'s law have been calculated')"
   ]
  },
  {
   "cell_type": "markdown",
   "metadata": {},
   "source": [
    "### Zipf's Law proof for unigram model"
   ]
  },
  {
   "cell_type": "code",
   "execution_count": 138,
   "metadata": {},
   "outputs": [
    {
     "data": {
      "image/png": "[encoded data removed]",
      "text/plain": [
       "<Figure size 432x288 with 1 Axes>"
      ]
     },
     "metadata": {},
     "output_type": "display_data"
    }
   ],
   "source": [
    "#zipf's law unigram\n",
    "x=[]\n",
    "y=[]\n",
    "k=0\n",
    "for i in sorted_unigram:\n",
    "    k+=1\n",
    "    x.append(k)\n",
    "    y.append(i[1])\n",
    "plt.plot(x,y)\n",
    "plt.xlabel('Rank in unigram')\n",
    "plt.ylabel('Frequency')\n",
    "plt.yscale('log')\n",
    "plt.title('Zipf\\'s Law proof for unigram model')\n",
    "plt.show()"
   ]
  },
  {
   "cell_type": "markdown",
   "metadata": {},
   "source": [
    "### Zipf's Law proof for bigram model"
   ]
  },
  {
   "cell_type": "code",
   "execution_count": 139,
   "metadata": {},
   "outputs": [
    {
     "data": {
      "image/png": "[encoded data removed]",
      "text/plain": [
       "<Figure size 432x288 with 1 Axes>"
      ]
     },
     "metadata": {},
     "output_type": "display_data"
    }
   ],
   "source": [
    "#zipf's law bigram\n",
    "x=[]\n",
    "y=[]\n",
    "k=0\n",
    "for i in sorted_bigram:\n",
    "    k+=1\n",
    "    x.append(k)\n",
    "    y.append(i[1])\n",
    "plt.plot(x,y)\n",
    "plt.xlabel('Rank in bigram')\n",
    "plt.ylabel('Frequency')\n",
    "plt.yscale('log')\n",
    "plt.title('Zipf\\'s Law proof for bigram model')\n",
    "plt.show()"
   ]
  },
  {
   "cell_type": "markdown",
   "metadata": {},
   "source": [
    "### Zipf's Law proof for trigram model"
   ]
  },
  {
   "cell_type": "code",
   "execution_count": 140,
   "metadata": {},
   "outputs": [
    {
     "data": {
      "image/png": "[encoded data removed]",
      "text/plain": [
       "<Figure size 432x288 with 1 Axes>"
      ]
     },
     "metadata": {},
     "output_type": "display_data"
    }
   ],
   "source": [
    "#zipf's law trigram\n",
    "x=[]\n",
    "y=[]\n",
    "k=0\n",
    "for i in sorted_trigram:\n",
    "    k+=1\n",
    "    x.append(k)\n",
    "    y.append(i[1])\n",
    "plt.plot(x,y)\n",
    "plt.xlabel('Rank in trigram')\n",
    "plt.ylabel('Frequency')\n",
    "plt.yscale('log')\n",
    "plt.title('Zipf\\'s Law proof for trigram model')\n",
    "plt.show()"
   ]
  },
  {
   "cell_type": "markdown",
   "metadata": {},
   "source": [
    "# (without smoothing) log-likelihood and perplexity scores for the following sentences "
   ]
  },
  {
   "cell_type": "code",
   "execution_count": 144,
   "metadata": {},
   "outputs": [
    {
     "name": "stdout",
     "output_type": "stream",
     "text": [
      "he lived a good life , unigram log-likelihood : -32.41207520101094 , unigram perplexity : 1626.0655083839695\n",
      "he lived a good life , bigram log-likelihood : -27.25463796613492 , bigram perplexity : 232.97417097281271\n",
      "he lived a good life , trigram log-likelihood : -14.81570447473309 , trigram perplexity : 19.35867994658659\n",
      "the man was happy , unigram log-likelihood : -23.68379267807059 , unigram perplexity : 1164.8266899698374\n",
      "the man was happy , bigram log-likelihood : -20.439738734958496 , bigram perplexity : 165.6595342590791\n",
      "the man was happy , trigram log-likelihood : -11.31865399561388 , trigram perplexity : 16.93975961767733\n",
      "the person was good , unigram log-likelihood : -23.51599675361079 , unigram perplexity : 1116.974097935782\n",
      "the person was good , bigram log-likelihood : -24.216883569762338 , bigram perplexity : 425.906948832999\n",
      "the person was good , trigram log-likelihood : -11.881847604897187 , trigram perplexity : 19.500925017203837\n",
      "the girl was sad , unigram log-likelihood : -26.418160187490173 , unigram perplexity : 2307.4988507195526\n",
      "the girl was sad , bigram log-likelihood : -13.955214236558142 , bigram perplexity : 32.74674471545359\n",
      "the girl was sad , trigram log-likelihood : -inf , trigram perplexity : inf\n",
      "he won the war , unigram log-likelihood : -25.035323657181426 , unigram perplexity : 1633.0591855097198\n",
      "he won the war , bigram log-likelihood : -20.98278534310255 , bigram perplexity : 189.7478974867542\n",
      "he won the war , trigram log-likelihood : -16.17625661824641 , trigram perplexity : 57.057763792592894\n"
     ]
    },
    {
     "name": "stderr",
     "output_type": "stream",
     "text": [
      "/home/gourabp/anaconda3/lib/python3.6/site-packages/ipykernel_launcher.py:36: RuntimeWarning: divide by zero encountered in power\n"
     ]
    }
   ],
   "source": [
    "SSS= [\"he lived a good life\",\"the man was happy\",\"the person was good\",\"the girl was sad\",\"he won the war\"]\n",
    "for t in SSS:\n",
    "    #calculating log-likelihood using unigram model \n",
    "    p=unigram_counts[None]**2\n",
    "    log_LE=0\n",
    "    for w in t.split():\n",
    "        if w in unigram_counts:\n",
    "            p*=unigram_counts[w]\n",
    "            log_LE+=np.log(unigram_counts[w])\n",
    "        else:\n",
    "            p*=0\n",
    "            log_LE=-float('inf')\n",
    "    print(t,', unigram log-likelihood :',log_LE,', unigram perplexity :',np.power(p,(np.divide(-1.0,len(t.split())))))\n",
    "    #calculating log-likelihood using bigram model \n",
    "    p=1\n",
    "    log_LE=0\n",
    "    for w1,w2 in ngrams(t.split(),2,pad_left=True,pad_right=True):\n",
    "        if w1 in bigram_counts:\n",
    "            if w2 in bigram_counts[w1]:\n",
    "                p*=bigram_counts[w1][w2]\n",
    "                log_LE+=np.log(bigram_counts[w1][w2])\n",
    "        else:\n",
    "            p*=0\n",
    "            log_LE=-float('inf')\n",
    "    print(t,', bigram log-likelihood :',log_LE,', bigram perplexity :',np.power(p,(np.divide(-1.0,len(t.split())))))\n",
    "    p=1\n",
    "    log_LE=0\n",
    "    for w1,w2,w3 in ngrams(t.split(),3,pad_left=True,pad_right=True):\n",
    "        if (w1,w2) in trigram_counts:\n",
    "            if w3 in trigram_counts[(w1,w2)]:\n",
    "                p*=trigram_counts[(w1,w2)][w3]\n",
    "                log_LE+=np.log(trigram_counts[(w1,w2)][w3])\n",
    "        else:\n",
    "            p*=0\n",
    "            log_LE=-float('inf')\n",
    "    print(t,', trigram log-likelihood :',log_LE,', trigram perplexity :',np.power(p,(np.divide(-1.0,len(t.split())))))\n",
    "#print([(w1,w2) for w1,w2 in ngrams(s1.split(),2,pad_left=True,pad_right=True)])"
   ]
  },
  {
   "cell_type": "markdown",
   "metadata": {},
   "source": [
    "# Language Modelling with Laplace Smoothing"
   ]
  },
  {
   "cell_type": "code",
   "execution_count": 149,
   "metadata": {},
   "outputs": [],
   "source": [
    "#unigram with model with laplace smoothing\n",
    "v=len(unigram_counts)\n",
    "def unigram_model_laplace(sent,k):\n",
    "    unigrams=[]\n",
    "    for elem in sent:\n",
    "        unigrams.extend(elem.split())\n",
    "        unigrams.append(None)\n",
    "    unigram_counts=dict(Counter(unigrams))\n",
    "    unigram_total=len(unigrams)\n",
    "    for word in unigram_counts:\n",
    "        unigram_counts[word]=(unigram_counts[word]+k)/(unigram_total+k*v)\n",
    "    return unigram_counts\n",
    "\n",
    "\n",
    "#bigram model with laplace smoothing\n",
    "def bigram_model_laplace(sentences,k):\n",
    "    model={}\n",
    "    for sent in sentences:\n",
    "         for w1,w2 in ngrams(sent.split(),2, pad_left=True,pad_right=True):\n",
    "            if w1 not in model:\n",
    "                model[w1]={}\n",
    "            if w2 not in model[w1]:\n",
    "                model[w1][w2]=0\n",
    "            model[w1][w2]+=1\n",
    "    for w1 in model:\n",
    "        tot_count=float(sum(model[w1].values()))\n",
    "        for w2 in model[w1]:\n",
    "            model[w1][w2]=(model[w1][w2]+k)/(tot_count+k*v)\n",
    "        model[w1]['0']=(k/(k*v+tot_count))\n",
    "    return model\n",
    "\n",
    "#trigram model with laplace smoothing \n",
    "def trigram_model_laplace(sentences,k):\n",
    "    model={}\n",
    "    for sent in sentences:\n",
    "         for w1,w2,w3 in ngrams(sent.split(),3, pad_left=True,pad_right=True):\n",
    "            if (w1,w2) not in model:\n",
    "                model[(w1,w2)]={}\n",
    "            if w3 not in model[(w1,w2)]:\n",
    "                model[(w1,w2)][w3]=0\n",
    "            model[(w1,w2)][w3]+=1\n",
    "    for (w1,w2) in model:\n",
    "        tot_count=float(sum(model[(w1,w2)].values()))\n",
    "        for w3 in model[(w1,w2)]:\n",
    "            model[(w1,w2)][w3]=(model[(w1,w2)][w3]+k)/(tot_count+k*v)\n",
    "        model[(w1,w2)]['0']=(k/(k*v+tot_count))\n",
    "    return model"
   ]
  },
  {
   "cell_type": "code",
   "execution_count": 150,
   "metadata": {},
   "outputs": [
    {
     "name": "stdout",
     "output_type": "stream",
     "text": [
      "[1.0, 0.1, 0.01, 0.001, 0.0001]\n",
      "k 1.0\n",
      "he lived a good life , unigram log-likelihood : -32.350984616520726 , unigram perplexity : 2111.13408931043\n",
      "he lived a good life , bigram log-likelihood : -43.47377580757895 , bigram perplexity : 5971.510333136184\n",
      "he lived a good life , trigram log-likelihood : -60.512515603049295 , trigram perplexity : 180322.66719347902\n",
      "the man was happy , unigram log-likelihood : -23.6329801139747 , unigram perplexity : 1618.4506485624445\n",
      "the man was happy , bigram log-likelihood : -32.90789968237665 , bigram perplexity : 3740.5013064884397\n",
      "the man was happy , trigram log-likelihood : -46.202595150970346 , trigram perplexity : 103844.38793546404\n",
      "the person was good , unigram log-likelihood : -23.469192065468917 , unigram perplexity : 1553.518393328453\n",
      "the person was good , bigram log-likelihood : -35.902087238597424 , bigram perplexity : 7907.143019776081\n",
      "the person was good , trigram log-likelihood : -49.935666279481424 , trigram perplexity : 264056.02350740304\n",
      "the girl was sad , unigram log-likelihood : -26.345620067688515 , unigram perplexity : 3188.75095595578\n",
      "the girl was sad , bigram log-likelihood : -38.264500342455705 , bigram perplexity : 14273.002369092086\n",
      "the girl was sad , trigram log-likelihood : -inf , trigram perplexity : inf\n",
      "he won the war , unigram log-likelihood : -24.97873506791831 , unigram perplexity : 2265.7550081483355\n",
      "he won the war , bigram log-likelihood : -34.50089344281595 , bigram perplexity : 5570.4067796023355\n",
      "he won the war , trigram log-likelihood : -47.74624212147839 , trigram perplexity : 152750.40529757447\n",
      "k 0.1\n"
     ]
    },
    {
     "name": "stderr",
     "output_type": "stream",
     "text": [
      "/home/gourabp/anaconda3/lib/python3.6/site-packages/ipykernel_launcher.py:48: RuntimeWarning: divide by zero encountered in power\n"
     ]
    },
    {
     "name": "stdout",
     "output_type": "stream",
     "text": [
      "he lived a good life , unigram log-likelihood : -32.1698419745489 , unigram perplexity : 2005.0880965273632\n",
      "he lived a good life , bigram log-likelihood : -35.34643587665309 , bigram perplexity : 1175.3099456561158\n",
      "he lived a good life , trigram log-likelihood : -54.37862420241553 , trigram perplexity : 52877.05815366877\n",
      "the man was happy , unigram log-likelihood : -23.48981023634836 , unigram perplexity : 1531.9491562771632\n",
      "the man was happy , bigram log-likelihood : -26.396045776139218 , bigram perplexity : 734.3688655726088\n",
      "the man was happy , trigram log-likelihood : -37.817049152444525 , trigram perplexity : 12762.446724818836\n",
      "the person was good , unigram log-likelihood : -23.322418231659988 , unigram perplexity : 1469.1630454179433\n",
      "the person was good , bigram log-likelihood : -29.863284926390165 , bigram perplexity : 1747.2898888454338\n",
      "the person was good , trigram log-likelihood : -43.94750927320131 , trigram perplexity : 59093.56524128374\n",
      "the girl was sad , unigram log-likelihood : -26.22197276371945 , unigram perplexity : 3033.0888260279035\n",
      "the girl was sad , bigram log-likelihood : -33.93389194080899 , bigram perplexity : 4834.2099158779065\n",
      "the girl was sad , trigram log-likelihood : -inf , trigram perplexity : inf\n",
      "he won the war , unigram log-likelihood : -24.840758457665316 , unigram perplexity : 2147.4432281776917\n",
      "he won the war , bigram log-likelihood : -28.093172946377674 , bigram perplexity : 1122.4771202909951\n",
      "he won the war , trigram log-likelihood : -38.056027593624556 , trigram perplexity : 13548.17185026885\n",
      "k 0.01\n",
      "he lived a good life , unigram log-likelihood : -32.15132182328266 , unigram perplexity : 1994.5537493454492\n",
      "he lived a good life , bigram log-likelihood : -29.87574561985622 , bigram perplexity : 393.52678099206963\n",
      "he lived a good life , trigram log-likelihood : -49.669672735815325 , trigram perplexity : 20618.304891068186\n",
      "the man was happy , unigram log-likelihood : -23.475170371166815 , unigram perplexity : 1523.3721277288882\n",
      "the man was happy , bigram log-likelihood : -22.56650146613769 , bigram perplexity : 281.9205705464979\n",
      "the man was happy , trigram log-likelihood : -30.868369587856247 , trigram perplexity : 2246.4183826642206\n",
      "the person was good , unigram log-likelihood : -23.30741487026231 , unigram perplexity : 1460.8047864789833\n",
      "the person was good , bigram log-likelihood : -26.01746641365022 , bigram perplexity : 668.0523932116766\n",
      "the person was good , trigram log-likelihood : -39.09766359973008 , trigram perplexity : 17578.219740575278\n",
      "the girl was sad , unigram log-likelihood : -26.209317053635985 , unigram perplexity : 3017.60374138718\n",
      "the girl was sad , bigram log-likelihood : -31.597212522472944 , bigram perplexity : 2695.403329584331\n",
      "the girl was sad , trigram log-likelihood : -inf , trigram perplexity : inf\n",
      "he won the war , unigram log-likelihood : -24.826643022322457 , unigram perplexity : 2135.700178730959\n",
      "he won the war , bigram log-likelihood : -23.785566852006635 , bigram perplexity : 382.3711420585973\n",
      "he won the war , trigram log-likelihood : -28.624381815549526 , trigram perplexity : 1281.8959268580477\n",
      "k 0.001\n",
      "he lived a good life , unigram log-likelihood : -32.14946563119719 , unigram perplexity : 1993.5010263205004\n",
      "he lived a good life , bigram log-likelihood : -27.716884846768462 , bigram perplexity : 255.53949305782706\n",
      "he lived a good life , trigram log-likelihood : -47.751628414045996 , trigram perplexity : 14049.269532054052\n",
      "the man was happy , unigram log-likelihood : -23.47370306156065 , unigram perplexity : 1522.5151642900614\n",
      "the man was happy , bigram log-likelihood : -20.869990564699936 , bigram perplexity : 184.47199091087327\n",
      "the man was happy , trigram log-likelihood : -26.075559113709083 , trigram perplexity : 677.8254310276515\n",
      "the person was good , unigram log-likelihood : -23.305911179772423 , unigram perplexity : 1459.9697410979416\n",
      "the person was good , bigram log-likelihood : -24.513586696556363 , bigram perplexity : 458.70012501226375\n",
      "the person was good , trigram log-likelihood : -35.81221005596151 , trigram perplexity : 7731.456255875774\n",
      "the girl was sad , unigram log-likelihood : -26.208048484991114 , unigram perplexity : 3016.0560570703365\n",
      "the girl was sad , bigram log-likelihood : -31.093934068210523 , bigram perplexity : 2376.7362857487797\n",
      "the girl was sad , trigram log-likelihood : -inf , trigram perplexity : inf\n",
      "he won the war , unigram log-likelihood : -24.825228207353582 , unigram perplexity : 2134.526766604655\n",
      "he won the war , bigram log-likelihood : -21.602684152341762 , bigram perplexity : 221.55503820175437\n",
      "he won the war , trigram log-likelihood : -21.481098877615505 , trigram perplexity : 214.92190281193965\n",
      "k 0.0001\n",
      "he lived a good life , unigram log-likelihood : -32.14927997009711 , unigram perplexity : 1993.3957611442715\n",
      "he lived a good life , bigram log-likelihood : -27.30681909615398 , bigram perplexity : 235.41827349407308\n",
      "he lived a good life , trigram log-likelihood : -48.70116036397825 , trigram perplexity : 16987.483256045332\n",
      "the man was happy , unigram log-likelihood : -23.473556297271756 , unigram perplexity : 1522.429475348685\n",
      "the man was happy , bigram log-likelihood : -20.490292346609113 , bigram perplexity : 167.7664924474614\n",
      "the man was happy , trigram log-likelihood : -24.917523091526906 , trigram perplexity : 507.44116485831677\n",
      "the person was good , unigram log-likelihood : -23.305760777082277 , unigram perplexity : 1459.8862443728424\n",
      "the person was good , bigram log-likelihood : -24.24936252738583 , bigram perplexity : 429.37928040482467\n",
      "the person was good , trigram log-likelihood : -35.79477271438284 , trigram perplexity : 7697.82560187656\n",
      "the girl was sad , unigram log-likelihood : -26.207921598059478 , unigram perplexity : 3015.9012968932566\n",
      "the girl was sad , bigram log-likelihood : -32.50280580858649 , bigram perplexity : 3380.238175594367\n",
      "the girl was sad , trigram log-likelihood : -inf , trigram perplexity : inf\n",
      "he won the war , unigram log-likelihood : -24.825086693045584 , unigram perplexity : 2134.4094343319475\n",
      "he won the war , bigram log-likelihood : -21.05911988821597 , bigram perplexity : 193.40374987568333\n",
      "he won the war , trigram log-likelihood : -17.711568463359818 , trigram perplexity : 83.754685536103\n"
     ]
    }
   ],
   "source": [
    "k_list=[1.0,1e-1,1e-2,1e-3,1e-4]\n",
    "print(k_list)\n",
    "for k_para in k_list:\n",
    "    print('k',k_para)\n",
    "    unigram_counts=unigram_model_laplace(sentences,k_para)\n",
    "    bigram_counts=bigram_model_laplace(sentences,k_para)\n",
    "    trigram_counts=trigram_model_laplace(sentences,k_para)\n",
    "    for t in SSS:\n",
    "        #calculating log-likelihood using unigram model \n",
    "        p=unigram_counts[None]**2\n",
    "        log_LE=0\n",
    "        for w in t.split():\n",
    "            if w in unigram_counts:\n",
    "                p*=unigram_counts[w]\n",
    "                log_LE+=np.log(unigram_counts[w])\n",
    "            else:\n",
    "                p*=0\n",
    "                log_LE=-float('inf')\n",
    "        print(t,', unigram log-likelihood :',log_LE,', unigram perplexity :',np.power(p,(np.divide(-1.0,len(t.split())))))\n",
    "        #calculating log-likelihood using bigram model \n",
    "        p=1\n",
    "        log_LE=0\n",
    "        for w1,w2 in ngrams(t.split(),2,pad_left=True,pad_right=True):\n",
    "            if w1 in bigram_counts:\n",
    "                if w2 in bigram_counts[w1]:\n",
    "                    p*=bigram_counts[w1][w2]\n",
    "                    log_LE+=np.log(bigram_counts[w1][w2])\n",
    "                else:\n",
    "                    p*=bigram_counts[w1]['0']\n",
    "                    log_LE+=np.log(bigram_counts[w1]['0'])\n",
    "            else:\n",
    "                p*=0\n",
    "                log_LE=-float('inf')\n",
    "        print(t,', bigram log-likelihood :',log_LE,', bigram perplexity :',np.power(p,(np.divide(-1.0,len(t.split())))))\n",
    "        p=1\n",
    "        log_LE=0\n",
    "        for w1,w2,w3 in ngrams(t.split(),3,pad_left=True,pad_right=True):\n",
    "            if (w1,w2) in trigram_counts:\n",
    "                if w3 in trigram_counts[(w1,w2)]:\n",
    "                    p*=trigram_counts[(w1,w2)][w3]\n",
    "                    log_LE+=np.log(trigram_counts[(w1,w2)][w3])\n",
    "                else:\n",
    "                    p*=trigram_counts[(w1,w2)]['0']\n",
    "                    log_LE+=np.log(trigram_counts[(w1,w2)]['0'])\n",
    "            else:\n",
    "                p*=0\n",
    "                log_LE=-float('inf')\n",
    "        print(t,', trigram log-likelihood :',log_LE,', trigram perplexity :',np.power(p,(np.divide(-1.0,len(t.split())))))"
   ]
  },
  {
   "cell_type": "markdown",
   "metadata": {},
   "source": [
    "# Good Turing Smoothing\n",
    "### Why good turing is not possible for unigram model ?\n",
    "Ans : Because, in unigram model, the number of possible unigrams never seen in the corpus (occurring 0 times in the corpus) is infinite. So one can't decide on giving any probability value to unseen unigrams."
   ]
  },
  {
   "cell_type": "code",
   "execution_count": 173,
   "metadata": {},
   "outputs": [],
   "source": [
    "v=len(unigram_counts)\n",
    "\n",
    "#bigram model with Good Turing smoothing\n",
    "def bigram_model_goodturing():\n",
    "    model={}\n",
    "    count_numbers=dict(Counter(bigrams.values()))\n",
    "    # calculating effective counts\n",
    "    eff_count_0=count_numbers[1]/(v*v-len(bigrams))\n",
    "    eff_count_sum=eff_count_0+sum(bigrams.values())\n",
    "    for i in bigrams:\n",
    "         model[i]=bigrams[i]/eff_count_sum\n",
    "    model['0']=eff_count_0/eff_count_sum\n",
    "    return model\n",
    "\n",
    "#trigram model with Good Turing smoothing \n",
    "def trigram_model_goodturing():\n",
    "    model={}\n",
    "    count_numbers=dict(Counter(trigrams.values()))\n",
    "    # calculating effective counts\n",
    "    eff_count_0=count_numbers[1]/(v*v-len(trigrams))\n",
    "    eff_count_sum=eff_count_0+sum(trigrams.values())\n",
    "    for i in trigrams:\n",
    "         model[i]=trigrams[i]/eff_count_sum\n",
    "    model['0']=eff_count_0/eff_count_sum\n",
    "    return model"
   ]
  },
  {
   "cell_type": "code",
   "execution_count": 174,
   "metadata": {},
   "outputs": [
    {
     "name": "stdout",
     "output_type": "stream",
     "text": [
      "good turing models created\n"
     ]
    }
   ],
   "source": [
    "bigram_counts=bigram_model_goodturing()\n",
    "trigram_counts=trigram_model_goodturing()\n",
    "print('good turing models created')"
   ]
  },
  {
   "cell_type": "code",
   "execution_count": 175,
   "metadata": {},
   "outputs": [
    {
     "name": "stdout",
     "output_type": "stream",
     "text": [
      "he lived a good life , bigram log-likelihood : -62.32324015897015 , bigram perplexity : 259016.7555400617\n",
      "he lived a good life , trigram log-likelihood : -109.0407375351086 , trigram perplexity : 2959089649.1667886\n",
      "the man was happy , bigram log-likelihood : -46.83262157678976 , bigram perplexity : 121559.04541333333\n",
      "the man was happy , trigram log-likelihood : -73.67434762027146 , trigram perplexity : 99790835.16669808\n",
      "the person was good , bigram log-likelihood : -50.4419704871338 , bigram perplexity : 299686.6242315574\n",
      "the person was good , trigram log-likelihood : -86.29144385142301 , trigram perplexity : 2338699781.269478\n",
      "the girl was sad , bigram log-likelihood : -61.06850010175598 , bigram perplexity : 4270002.733800854\n",
      "the girl was sad , trigram log-likelihood : -85.69429014416852 , trigram perplexity : 2014370418.3256986\n",
      "he won the war , bigram log-likelihood : -48.72719916404465 , bigram perplexity : 195203.8724257769\n",
      "he won the war , trigram log-likelihood : -68.12937453367732 , trigram perplexity : 24948983.38948726\n"
     ]
    }
   ],
   "source": [
    "print('Using Good Turing Smoothing')\n",
    "for t in SSS:\n",
    "    #calculating log-likelihood using bigram model \n",
    "    p=1\n",
    "    log_LE=0\n",
    "    for w1,w2 in ngrams(t.split(),2,pad_left=True,pad_right=True):\n",
    "        if (w1,w2) in bigram_counts:\n",
    "            p*=bigram_counts[(w1,w2)]\n",
    "            log_LE+=np.log(bigram_counts[(w1,w2)])\n",
    "        else:\n",
    "            p*=bigram_counts['0']\n",
    "            log_LE+=np.log(bigram_counts['0'])\n",
    "    print(t,', bigram log-likelihood :',log_LE,', bigram perplexity :',np.power(p,(np.divide(-1.0,len(t.split())))))\n",
    "    p=1\n",
    "    log_LE=0\n",
    "    for w1,w2,w3 in ngrams(t.split(),3,pad_left=True,pad_right=True):\n",
    "        if (w1,w2,w3) in trigram_counts:\n",
    "            p*=trigram_counts[(w1,w2,w3)]\n",
    "            log_LE+=np.log(trigram_counts[(w1,w2,w3)])\n",
    "        else:\n",
    "            p*=bigram_counts['0']\n",
    "            log_LE+=np.log(bigram_counts['0'])\n",
    "    print(t,', trigram log-likelihood :',log_LE,', trigram perplexity :',np.power(p,(np.divide(-1.0,len(t.split())))))"
   ]
  },
  {
   "cell_type": "markdown",
   "metadata": {},
   "source": [
    "# Interpolation Method for bigram model"
   ]
  },
  {
   "cell_type": "code",
   "execution_count": 177,
   "metadata": {},
   "outputs": [
    {
     "name": "stdout",
     "output_type": "stream",
     "text": [
      "using interpolation method for bigram model\n",
      "choosing interpolation parameter lambda = 0.2\n",
      "he lived a good life , bigram log-likelihood : -64.22423085291109 , bigram perplexity : 829.9035379481999\n",
      "the man was happy , bigram log-likelihood : -48.68104909879432 , bigram perplexity : 711.9448770204439\n",
      "the person was good , bigram log-likelihood : -52.29039800913836 , bigram perplexity : 985.6363544447222\n",
      "the girl was sad , bigram log-likelihood : -34.557580408423036 , bigram perplexity : 120.91969362885105\n",
      "he won the war , bigram log-likelihood : -50.57562668604921 , bigram perplexity : 955.6344024533873\n",
      "choosing interpolation parameter lambda = 0.5\n",
      "he lived a good life , bigram log-likelihood : -64.22423085291109 , bigram perplexity : 530.3745274133142\n",
      "the man was happy , bigram log-likelihood : -48.68104909879432 , bigram perplexity : 464.55647442041476\n",
      "the person was good , bigram log-likelihood : -52.29039800913836 , bigram perplexity : 861.2101425776959\n",
      "the girl was sad , bigram log-likelihood : -34.557580408423036 , bigram perplexity : 85.24970255726531\n",
      "he won the war , bigram log-likelihood : -50.57562668604921 , bigram perplexity : 576.2586763642289\n",
      "choosing interpolation parameter lambda = 0.8\n",
      "he lived a good life , bigram log-likelihood : -64.22423085291109 , bigram perplexity : 410.94308332808225\n",
      "the man was happy , bigram log-likelihood : -48.68104909879432 , bigram perplexity : 344.3498924889704\n",
      "the person was good , bigram log-likelihood : -52.29039800913836 , bigram perplexity : 785.776220697393\n",
      "the girl was sad , bigram log-likelihood : -34.557580408423036 , bigram perplexity : 66.33290972005221\n",
      "he won the war , bigram log-likelihood : -50.57562668604921 , bigram perplexity : 404.9427977638933\n"
     ]
    }
   ],
   "source": [
    "#interpolation method for the bigram model\n",
    "unigram_counts=unigram_model(sentences)\n",
    "bigram_counts,bigrams= bigram_model(sentences)\n",
    "lamda_list=[0.2,0.5,0.8]\n",
    "print('using interpolation method for bigram model')\n",
    "for lamda in lamda_list:\n",
    "    print('choosing interpolation parameter lambda =',lamda)\n",
    "    for t in SSS:\n",
    "        #calculating log-likelihood using bigram model \n",
    "        p=unigram_counts[None]\n",
    "        log_LE=np.log(unigram_counts[None])\n",
    "        for w1,w2 in ngrams(t.split(),2,pad_left=True,pad_right=True):\n",
    "            if w1 in bigram_counts:\n",
    "                if w2 in bigram_counts[w1]:\n",
    "                    p*=(lamda*bigram_counts[w1][w2]+(1-lamda)*unigram_counts[w2])\n",
    "                    log_LE+=np.log(bigram_counts[w1][w2]*unigram_counts[w2])\n",
    "            else:\n",
    "                p*=0\n",
    "                log_LE=-float('inf')\n",
    "        print(t,', bigram log-likelihood :',log_LE,', bigram perplexity :',np.power(p,(np.divide(-1.0,len(t.split())))))"
   ]
  },
  {
   "cell_type": "code",
   "execution_count": 180,
   "metadata": {},
   "outputs": [
    {
     "name": "stdout",
     "output_type": "stream",
     "text": [
      "['he lived a good life', 'the man was happy', 'the person was good', 'the girl was sad', 'he won the war']\n"
     ]
    }
   ],
   "source": [
    "#fp=open('test_examples.txt')\n",
    "#abc=fp.read()\n",
    "#print(abc.split('\\n'))"
   ]
  },
  {
   "cell_type": "code",
   "execution_count": null,
   "metadata": {},
   "outputs": [],
   "source": []
  }
 ],
 "metadata": {
  "kernelspec": {
   "display_name": "Python 3",
   "language": "python",
   "name": "python3"
  },
  "language_info": {
   "codemirror_mode": {
    "name": "ipython",
    "version": 3
   },
   "file_extension": ".py",
   "mimetype": "text/x-python",
   "name": "python",
   "nbconvert_exporter": "python",
   "pygments_lexer": "ipython3",
   "version": "3.5.2"
  }
 },
 "nbformat": 4,
 "nbformat_minor": 2
}
